{
 "cells": [
  {
   "cell_type": "markdown",
   "metadata": {
    "ExecuteTime": {
     "end_time": "2019-02-12T22:17:19.603440Z",
     "start_time": "2019-02-12T22:17:19.523397Z"
    }
   },
   "source": [
    "<h1><center> Facial Emotion Recognition - Simple Architecture </center></h1>\n",
    "<center> A project for the French Employment Agency </center>\n",
    "<center> Telecom ParisTech 2018-2019 </center>"
   ]
  },
  {
   "cell_type": "markdown",
   "metadata": {},
   "source": [
    "# I. Context"
   ]
  },
  {
   "cell_type": "markdown",
   "metadata": {},
   "source": [
    "The aim of this notebook is to explore facial emotion recognition techniques from a live webcam video stream. \n",
    "\n",
    "The data set used for training is the Kaggle FER2013 emotion recognition data set : https://www.kaggle.com/c/challenges-in-representation-learning-facial-expression-recognition-challenge/data\n",
    "\n",
    "The models explored include :\n",
    "- Manual filters \n",
    "- Deep Learning Architectures\n",
    "- DenseNet Inspired Architectures\n",
    "\n",
    "This model will be combined with voice emotion recongition as well as psychological traits extracted from text inputs, and should provide a benchmark and a deep analysis of both verbal and non-verbal insights for candidates seeking for a job and their performance during an interview."
   ]
  },
  {
   "cell_type": "markdown",
   "metadata": {},
   "source": [
    "# II. General imports"
   ]
  },
  {
   "cell_type": "markdown",
   "metadata": {},
   "source": [
    "Versions used :"
   ]
  },
  {
   "cell_type": "raw",
   "metadata": {},
   "source": [
    "Python : 3.6.5\n",
    "Tensorflow : 1.10.1\n",
    "Keras : 2.2.2\n",
    "Numpy : 1.15.4\n",
    "OpenCV : 4.0.0"
   ]
  },
  {
   "cell_type": "code",
   "execution_count": 36,
   "metadata": {
    "ExecuteTime": {
     "end_time": "2019-03-06T08:07:47.839370Z",
     "start_time": "2019-03-06T08:07:47.767168Z"
    }
   },
   "outputs": [],
   "source": [
    "### General imports ###\n",
    "import numpy as np\n",
    "import pandas as pd\n",
    "import matplotlib.pyplot as plt\n",
    "from time import time\n",
    "from time import sleep\n",
    "import re\n",
    "import os\n",
    "import argparse\n",
    "from collections import OrderedDict\n",
    "import matplotlib.animation as animation\n",
    "\n",
    "### Image processing ###\n",
    "from scipy.ndimage import zoom\n",
    "from scipy.spatial import distance\n",
    "import imutils\n",
    "from scipy import ndimage\n",
    "import cv2\n",
    "import dlib\n",
    "from __future__ import division\n",
    "from imutils import face_utils\n",
    "\n",
    "### CNN models ###\n",
    "import keras\n",
    "from keras.preprocessing.image import ImageDataGenerator, array_to_img, img_to_array, load_img\n",
    "from keras.callbacks import TensorBoard\n",
    "from keras.models import Sequential\n",
    "from keras.layers.core import Dense, Dropout, Activation, Flatten\n",
    "from keras.layers.convolutional import Conv2D, MaxPooling2D, SeparableConv2D\n",
    "from keras.utils import np_utils\n",
    "from keras.regularizers import l2#, activity_l2\n",
    "from keras.optimizers import SGD, RMSprop\n",
    "from keras.utils import to_categorical\n",
    "from keras.layers.normalization import BatchNormalization\n",
    "from keras import models\n",
    "from keras.utils.vis_utils import plot_model\n",
    "from keras.layers import Input, GlobalAveragePooling2D\n",
    "from keras.models import Model\n",
    "from tensorflow.keras import layers\n",
    "\n",
    "### Build SVM models ###\n",
    "from sklearn.preprocessing import OneHotEncoder\n",
    "from sklearn.model_selection import train_test_split\n",
    "from sklearn.metrics import accuracy_score\n",
    "from sklearn import svm\n",
    "\n",
    "### Same trained models ###\n",
    "import h5py\n",
    "from keras.models import model_from_json\n",
    "import pickle"
   ]
  },
  {
   "cell_type": "markdown",
   "metadata": {},
   "source": [
    "# III. Import datas"
   ]
  },
  {
   "cell_type": "code",
   "execution_count": 37,
   "metadata": {
    "ExecuteTime": {
     "end_time": "2019-03-06T08:07:48.521087Z",
     "start_time": "2019-03-06T08:07:48.517303Z"
    }
   },
   "outputs": [],
   "source": [
    "path = '/Users/maelfabien/filrouge_pole_emploi/Video/'\n",
    "local_path = '/Users/maelfabien/Desktop/LocalDB/Videos/'"
   ]
  },
  {
   "cell_type": "code",
   "execution_count": 38,
   "metadata": {
    "ExecuteTime": {
     "end_time": "2019-03-06T08:07:49.198550Z",
     "start_time": "2019-03-06T08:07:48.778299Z"
    }
   },
   "outputs": [],
   "source": [
    "X_train = np.load(local_path + \"X_train.npy\")\n",
    "X_test = np.load(local_path + \"X_test.npy\")\n",
    "y_train = np.load(local_path + \"y_train.npy\")\n",
    "y_test = np.load(local_path + \"y_test.npy\")"
   ]
  },
  {
   "cell_type": "code",
   "execution_count": 39,
   "metadata": {
    "ExecuteTime": {
     "end_time": "2019-03-06T08:07:49.302371Z",
     "start_time": "2019-03-06T08:07:49.277008Z"
    }
   },
   "outputs": [],
   "source": [
    "shape_x = 48\n",
    "shape_y = 48\n",
    "nRows,nCols,nDims = X_train.shape[1:]\n",
    "input_shape = (nRows, nCols, nDims)\n",
    "classes = np.unique(y_train)\n",
    "nClasses = len(classes)"
   ]
  },
  {
   "cell_type": "markdown",
   "metadata": {},
   "source": [
    "# IV. Build the model"
   ]
  },
  {
   "cell_type": "code",
   "execution_count": 46,
   "metadata": {
    "ExecuteTime": {
     "end_time": "2019-03-06T08:10:59.688604Z",
     "start_time": "2019-03-06T08:10:59.631086Z"
    }
   },
   "outputs": [],
   "source": [
    "def createModel():\n",
    "    model = Sequential()\n",
    "\n",
    "    model.add(Conv2D(64, (3, 3), padding='same', input_shape=(48,48,1)))\n",
    "    model.add(BatchNormalization())\n",
    "    model.add(Activation('relu'))\n",
    "    model.add(MaxPooling2D(pool_size=(2, 2), strides=None, padding='same'))\n",
    "    model.add(Dropout(0.25))\n",
    "\n",
    "    model.add(Conv2D(128, (3, 3), padding='same'))\n",
    "    model.add(BatchNormalization())\n",
    "    model.add(Activation('relu'))\n",
    "    model.add(MaxPooling2D(pool_size=(2, 2), strides=None, padding='same'))\n",
    "    model.add(Dropout(0.25))\n",
    "\n",
    "    model.add(Conv2D(256, (3, 3), padding='same'))\n",
    "    model.add(BatchNormalization())\n",
    "    model.add(Activation('relu'))\n",
    "    model.add(MaxPooling2D(pool_size=(2, 2), strides=None, padding='same'))\n",
    "    model.add(Dropout(0.25))\n",
    "\n",
    "    model.add(Conv2D(512, (3, 3), padding='same'))\n",
    "    model.add(BatchNormalization())\n",
    "    model.add(Activation('relu'))\n",
    "    model.add(MaxPooling2D(pool_size=(2, 2), strides=None, padding='same'))\n",
    "    model.add(Dropout(0.25))\n",
    "\n",
    "    model.add(Flatten())\n",
    "\n",
    "    model.add(Dense(512))\n",
    "    model.add(BatchNormalization())\n",
    "    model.add(Activation('relu'))\n",
    "    model.add(Dropout(0.25))\n",
    "\n",
    "    model.add(Dense(256))\n",
    "    model.add(BatchNormalization())\n",
    "    model.add(Activation('relu'))\n",
    "    model.add(Dropout(0.25))\n",
    "\n",
    "    model.add(Dense(7))\n",
    "    model.add(Activation('softmax'))\n",
    "\n",
    "    return model"
   ]
  },
  {
   "cell_type": "raw",
   "metadata": {
    "ExecuteTime": {
     "end_time": "2019-03-05T20:05:06.368644Z",
     "start_time": "2019-03-05T20:05:06.321720Z"
    }
   },
   "source": [
    "def createModel():\n",
    "    \n",
    "    #Model Initialization\n",
    "    model = Sequential() \n",
    "    \n",
    "    model.add(Conv2D(20, (3, 3), padding='same', activation='relu', input_shape=input_shape))\n",
    "    model.add(Conv2D(30, (3, 3), padding='same', activation='relu'))\n",
    "    model.add(MaxPooling2D(pool_size=(2, 2)))\n",
    "    model.add(BatchNormalization())\n",
    "    model.add(Dropout(0.2))\n",
    "    \n",
    "    model.add(Conv2D(40, (3, 3), padding='same', activation='relu'))\n",
    "    model.add(Conv2D(50, (3, 3), padding='same', activation='relu'))\n",
    "    model.add(MaxPooling2D(pool_size=(2, 2)))\n",
    "    model.add(BatchNormalization())\n",
    "    model.add(Dropout(0.2))\n",
    "    \n",
    "    model.add(Conv2D(60, (3, 3), padding='same', activation='relu'))\n",
    "    model.add(Conv2D(70, (3, 3), padding='same', activation='relu'))\n",
    "    model.add(MaxPooling2D(pool_size=(2, 2)))\n",
    "    model.add(Dropout(0.2))\n",
    "    \n",
    "    model.add(Conv2D(80, (3, 3), padding='same', activation='relu'))\n",
    "    model.add(Conv2D(90, (3, 3), padding='same', activation='relu'))\n",
    "    \n",
    "    #Flattening\n",
    "    model.add(Flatten())\n",
    "    \n",
    "    #Adding fully connected layer\n",
    "    model.add(Dense(1000, activation='relu'))\n",
    "    model.add(Dense(512, activation='relu'))\n",
    "    \n",
    "    #Adding Output Layer\n",
    "    model.add(Dense(nClasses, activation='softmax'))\n",
    "     \n",
    "    return model"
   ]
  },
  {
   "cell_type": "code",
   "execution_count": 47,
   "metadata": {
    "ExecuteTime": {
     "end_time": "2019-03-06T08:11:03.059836Z",
     "start_time": "2019-03-06T08:11:00.836825Z"
    }
   },
   "outputs": [],
   "source": [
    "model = createModel()"
   ]
  },
  {
   "cell_type": "code",
   "execution_count": 48,
   "metadata": {
    "ExecuteTime": {
     "end_time": "2019-03-06T08:11:04.307128Z",
     "start_time": "2019-03-06T08:11:04.295413Z"
    }
   },
   "outputs": [
    {
     "name": "stdout",
     "output_type": "stream",
     "text": [
      "_________________________________________________________________\n",
      "Layer (type)                 Output Shape              Param #   \n",
      "=================================================================\n",
      "conv2d_25 (Conv2D)           (None, 48, 48, 64)        640       \n",
      "_________________________________________________________________\n",
      "batch_normalization_7 (Batch (None, 48, 48, 64)        256       \n",
      "_________________________________________________________________\n",
      "activation_1 (Activation)    (None, 48, 48, 64)        0         \n",
      "_________________________________________________________________\n",
      "max_pooling2d_10 (MaxPooling (None, 24, 24, 64)        0         \n",
      "_________________________________________________________________\n",
      "dropout_10 (Dropout)         (None, 24, 24, 64)        0         \n",
      "_________________________________________________________________\n",
      "conv2d_26 (Conv2D)           (None, 24, 24, 128)       73856     \n",
      "_________________________________________________________________\n",
      "batch_normalization_8 (Batch (None, 24, 24, 128)       512       \n",
      "_________________________________________________________________\n",
      "activation_2 (Activation)    (None, 24, 24, 128)       0         \n",
      "_________________________________________________________________\n",
      "max_pooling2d_11 (MaxPooling (None, 12, 12, 128)       0         \n",
      "_________________________________________________________________\n",
      "dropout_11 (Dropout)         (None, 12, 12, 128)       0         \n",
      "_________________________________________________________________\n",
      "conv2d_27 (Conv2D)           (None, 12, 12, 256)       295168    \n",
      "_________________________________________________________________\n",
      "batch_normalization_9 (Batch (None, 12, 12, 256)       1024      \n",
      "_________________________________________________________________\n",
      "activation_3 (Activation)    (None, 12, 12, 256)       0         \n",
      "_________________________________________________________________\n",
      "max_pooling2d_12 (MaxPooling (None, 6, 6, 256)         0         \n",
      "_________________________________________________________________\n",
      "dropout_12 (Dropout)         (None, 6, 6, 256)         0         \n",
      "_________________________________________________________________\n",
      "conv2d_28 (Conv2D)           (None, 6, 6, 512)         1180160   \n",
      "_________________________________________________________________\n",
      "batch_normalization_10 (Batc (None, 6, 6, 512)         2048      \n",
      "_________________________________________________________________\n",
      "activation_4 (Activation)    (None, 6, 6, 512)         0         \n",
      "_________________________________________________________________\n",
      "max_pooling2d_13 (MaxPooling (None, 3, 3, 512)         0         \n",
      "_________________________________________________________________\n",
      "dropout_13 (Dropout)         (None, 3, 3, 512)         0         \n",
      "_________________________________________________________________\n",
      "flatten_4 (Flatten)          (None, 4608)              0         \n",
      "_________________________________________________________________\n",
      "dense_9 (Dense)              (None, 512)               2359808   \n",
      "_________________________________________________________________\n",
      "batch_normalization_11 (Batc (None, 512)               2048      \n",
      "_________________________________________________________________\n",
      "activation_5 (Activation)    (None, 512)               0         \n",
      "_________________________________________________________________\n",
      "dropout_14 (Dropout)         (None, 512)               0         \n",
      "_________________________________________________________________\n",
      "dense_10 (Dense)             (None, 256)               131328    \n",
      "_________________________________________________________________\n",
      "batch_normalization_12 (Batc (None, 256)               1024      \n",
      "_________________________________________________________________\n",
      "activation_6 (Activation)    (None, 256)               0         \n",
      "_________________________________________________________________\n",
      "dropout_15 (Dropout)         (None, 256)               0         \n",
      "_________________________________________________________________\n",
      "dense_11 (Dense)             (None, 7)                 1799      \n",
      "_________________________________________________________________\n",
      "activation_7 (Activation)    (None, 7)                 0         \n",
      "=================================================================\n",
      "Total params: 4,049,671\n",
      "Trainable params: 4,046,215\n",
      "Non-trainable params: 3,456\n",
      "_________________________________________________________________\n"
     ]
    }
   ],
   "source": [
    "model.summary()"
   ]
  },
  {
   "cell_type": "markdown",
   "metadata": {},
   "source": [
    "And visualize the model architecture :"
   ]
  },
  {
   "cell_type": "code",
   "execution_count": 49,
   "metadata": {
    "ExecuteTime": {
     "end_time": "2019-03-06T08:11:08.501910Z",
     "start_time": "2019-03-06T08:11:08.207977Z"
    }
   },
   "outputs": [],
   "source": [
    "plot_model(model, to_file='model_images/model_plot.png', show_shapes=True, show_layer_names=True)"
   ]
  },
  {
   "cell_type": "markdown",
   "metadata": {},
   "source": [
    "<img src='model_images/model_plot.png'>"
   ]
  },
  {
   "cell_type": "markdown",
   "metadata": {},
   "source": [
    "To prevent overfitting, we can do data augmentation."
   ]
  },
  {
   "cell_type": "code",
   "execution_count": 155,
   "metadata": {
    "ExecuteTime": {
     "end_time": "2019-02-19T13:53:44.798652Z",
     "start_time": "2019-02-19T13:53:44.793239Z"
    }
   },
   "outputs": [],
   "source": [
    "datagen = ImageDataGenerator(\n",
    "        zoom_range=0.2,          # randomly zoom into images\n",
    "        rotation_range=10,       # randomly rotate images in the range (degrees, 0 to 180)\n",
    "        width_shift_range=0.1,   # randomly shift images horizontally (fraction of total width)\n",
    "        height_shift_range=0.1,  # randomly shift images vertically (fraction of total height)\n",
    "        horizontal_flip=True,    # randomly flip images\n",
    "        vertical_flip=False)     # randomly flip images"
   ]
  },
  {
   "cell_type": "code",
   "execution_count": 50,
   "metadata": {
    "ExecuteTime": {
     "end_time": "2019-03-06T08:11:17.011434Z",
     "start_time": "2019-03-06T08:11:16.655357Z"
    }
   },
   "outputs": [],
   "source": [
    "# augment and fit data\n",
    "datagen = ImageDataGenerator(\n",
    "    featurewise_center=False,\n",
    "    samplewise_center=False,\n",
    "    featurewise_std_normalization=False,\n",
    "    samplewise_std_normalization=False,\n",
    "    zca_whitening=False,\n",
    "    rotation_range=0,\n",
    "    width_shift_range=0.0,\n",
    "    height_shift_range=0.0,\n",
    "    shear_range=0,\n",
    "    zoom_range=0.0,\n",
    "    horizontal_flip=True,\n",
    "    vertical_flip=False)\n",
    "datagen.fit(X_train)"
   ]
  },
  {
   "cell_type": "code",
   "execution_count": 52,
   "metadata": {
    "ExecuteTime": {
     "end_time": "2019-03-07T00:44:38.535529Z",
     "start_time": "2019-03-06T08:12:10.342484Z"
    }
   },
   "outputs": [
    {
     "name": "stdout",
     "output_type": "stream",
     "text": [
      "Epoch 1/50\n",
      "225/225 [==============================] - 1756s 8s/step - loss: 1.7391 - acc: 0.3296 - val_loss: 1.6223 - val_acc: 0.3792\n",
      "Epoch 2/50\n",
      "225/225 [==============================] - 3350s 15s/step - loss: 1.4218 - acc: 0.4550 - val_loss: 1.7086 - val_acc: 0.3920\n",
      "Epoch 3/50\n",
      "225/225 [==============================] - 1520s 7s/step - loss: 1.2848 - acc: 0.5100 - val_loss: 1.3159 - val_acc: 0.4946\n",
      "Epoch 4/50\n",
      "225/225 [==============================] - 1102s 5s/step - loss: 1.2153 - acc: 0.5342 - val_loss: 1.2285 - val_acc: 0.5261\n",
      "Epoch 5/50\n",
      "225/225 [==============================] - 1045s 5s/step - loss: 1.1579 - acc: 0.5605 - val_loss: 1.2484 - val_acc: 0.5233\n",
      "Epoch 6/50\n",
      "225/225 [==============================] - 1012s 4s/step - loss: 1.1256 - acc: 0.5688 - val_loss: 1.1321 - val_acc: 0.5642\n",
      "Epoch 7/50\n",
      "225/225 [==============================] - 945s 4s/step - loss: 1.0959 - acc: 0.5833 - val_loss: 1.1788 - val_acc: 0.5564\n",
      "Epoch 8/50\n",
      "225/225 [==============================] - 1053s 5s/step - loss: 1.0664 - acc: 0.5949 - val_loss: 1.2706 - val_acc: 0.5194\n",
      "Epoch 9/50\n",
      "225/225 [==============================] - 3562s 16s/step - loss: 1.0483 - acc: 0.6011 - val_loss: 1.1693 - val_acc: 0.5581\n",
      "Epoch 10/50\n",
      "225/225 [==============================] - 982s 4s/step - loss: 1.0164 - acc: 0.6143 - val_loss: 1.1791 - val_acc: 0.5553\n",
      "Epoch 11/50\n",
      "225/225 [==============================] - 958s 4s/step - loss: 0.9992 - acc: 0.6203 - val_loss: 1.1542 - val_acc: 0.5623\n",
      "Epoch 12/50\n",
      "225/225 [==============================] - 956s 4s/step - loss: 0.9797 - acc: 0.6293 - val_loss: 1.1319 - val_acc: 0.5712\n",
      "Epoch 13/50\n",
      "225/225 [==============================] - 985s 4s/step - loss: 0.9603 - acc: 0.6358 - val_loss: 1.2249 - val_acc: 0.5453\n",
      "Epoch 14/50\n",
      "225/225 [==============================] - 975s 4s/step - loss: 0.9387 - acc: 0.6452 - val_loss: 1.1625 - val_acc: 0.5609\n",
      "Epoch 15/50\n",
      "225/225 [==============================] - 1003s 4s/step - loss: 0.9231 - acc: 0.6505 - val_loss: 1.0573 - val_acc: 0.6046\n",
      "Epoch 16/50\n",
      "225/225 [==============================] - 989s 4s/step - loss: 0.9050 - acc: 0.6605 - val_loss: 1.2213 - val_acc: 0.5598\n",
      "Epoch 17/50\n",
      "225/225 [==============================] - 1044s 5s/step - loss: 0.8781 - acc: 0.6669 - val_loss: 1.3825 - val_acc: 0.4982\n",
      "Epoch 18/50\n",
      "225/225 [==============================] - 940s 4s/step - loss: 0.8646 - acc: 0.6738 - val_loss: 1.1437 - val_acc: 0.5717\n",
      "Epoch 19/50\n",
      "225/225 [==============================] - 2787s 12s/step - loss: 0.8419 - acc: 0.6810 - val_loss: 1.1074 - val_acc: 0.5977\n",
      "Epoch 20/50\n",
      "225/225 [==============================] - 916s 4s/step - loss: 0.8263 - acc: 0.6891 - val_loss: 1.1074 - val_acc: 0.5977\n",
      "Epoch 21/50\n",
      "225/225 [==============================] - 978s 4s/step - loss: 0.8067 - acc: 0.6916 - val_loss: 1.1059 - val_acc: 0.5949\n",
      "Epoch 22/50\n",
      "225/225 [==============================] - 962s 4s/step - loss: 0.7916 - acc: 0.7000 - val_loss: 1.0476 - val_acc: 0.6166\n",
      "Epoch 23/50\n",
      "225/225 [==============================] - 985s 4s/step - loss: 0.7692 - acc: 0.7123 - val_loss: 1.3791 - val_acc: 0.5453\n",
      "Epoch 24/50\n",
      "225/225 [==============================] - 1000s 4s/step - loss: 0.7507 - acc: 0.7190 - val_loss: 1.1006 - val_acc: 0.5968\n",
      "Epoch 25/50\n",
      "225/225 [==============================] - 919s 4s/step - loss: 0.7387 - acc: 0.7225 - val_loss: 1.0870 - val_acc: 0.6082\n",
      "Epoch 26/50\n",
      "225/225 [==============================] - 922s 4s/step - loss: 0.7180 - acc: 0.7301 - val_loss: 1.2640 - val_acc: 0.5645\n",
      "Epoch 27/50\n",
      "225/225 [==============================] - 1089s 5s/step - loss: 0.6980 - acc: 0.7404 - val_loss: 1.1608 - val_acc: 0.5896\n",
      "Epoch 28/50\n",
      "225/225 [==============================] - 1156s 5s/step - loss: 0.6896 - acc: 0.7435 - val_loss: 1.1205 - val_acc: 0.6074\n",
      "Epoch 29/50\n",
      "225/225 [==============================] - 1070s 5s/step - loss: 0.6668 - acc: 0.7506 - val_loss: 1.1391 - val_acc: 0.6147\n",
      "Epoch 30/50\n",
      "225/225 [==============================] - 1073s 5s/step - loss: 0.6497 - acc: 0.7609 - val_loss: 1.1766 - val_acc: 0.5954\n",
      "Epoch 31/50\n",
      "225/225 [==============================] - 1070s 5s/step - loss: 0.6371 - acc: 0.7580 - val_loss: 1.2106 - val_acc: 0.6085\n",
      "Epoch 32/50\n",
      "225/225 [==============================] - 1042s 5s/step - loss: 0.6146 - acc: 0.7694 - val_loss: 1.4504 - val_acc: 0.5300\n",
      "Epoch 33/50\n",
      "225/225 [==============================] - 1052s 5s/step - loss: 0.6001 - acc: 0.7744 - val_loss: 1.2629 - val_acc: 0.5784\n",
      "Epoch 34/50\n",
      "225/225 [==============================] - 1109s 5s/step - loss: 0.5932 - acc: 0.7779 - val_loss: 1.1113 - val_acc: 0.6222\n",
      "Epoch 35/50\n",
      "225/225 [==============================] - 1079s 5s/step - loss: 0.5696 - acc: 0.7889 - val_loss: 1.3090 - val_acc: 0.5865\n",
      "Epoch 36/50\n",
      "225/225 [==============================] - 1072s 5s/step - loss: 0.5585 - acc: 0.7927 - val_loss: 1.2919 - val_acc: 0.5949\n",
      "Epoch 37/50\n",
      "225/225 [==============================] - 1029s 5s/step - loss: 0.5449 - acc: 0.7958 - val_loss: 1.1614 - val_acc: 0.6169\n",
      "Epoch 38/50\n",
      "225/225 [==============================] - 1031s 5s/step - loss: 0.5340 - acc: 0.8039 - val_loss: 1.2192 - val_acc: 0.6177\n",
      "Epoch 39/50\n",
      "225/225 [==============================] - 962s 4s/step - loss: 0.5111 - acc: 0.8118 - val_loss: 1.3252 - val_acc: 0.6055\n",
      "Epoch 40/50\n",
      "225/225 [==============================] - 992s 4s/step - loss: 0.5084 - acc: 0.8101 - val_loss: 1.1930 - val_acc: 0.6347\n",
      "Epoch 41/50\n",
      "225/225 [==============================] - 1036s 5s/step - loss: 0.4891 - acc: 0.8175 - val_loss: 1.2282 - val_acc: 0.6239\n",
      "Epoch 42/50\n",
      "225/225 [==============================] - 1070s 5s/step - loss: 0.4789 - acc: 0.8222 - val_loss: 1.2741 - val_acc: 0.6030\n",
      "Epoch 43/50\n",
      "225/225 [==============================] - 973s 4s/step - loss: 0.4725 - acc: 0.8236 - val_loss: 1.5224 - val_acc: 0.5595\n",
      "Epoch 44/50\n",
      "225/225 [==============================] - 949s 4s/step - loss: 0.4535 - acc: 0.8318 - val_loss: 1.4788 - val_acc: 0.5748\n",
      "Epoch 45/50\n",
      "225/225 [==============================] - 1008s 4s/step - loss: 0.4470 - acc: 0.8325 - val_loss: 1.1813 - val_acc: 0.6411\n",
      "Epoch 46/50\n",
      "225/225 [==============================] - 963s 4s/step - loss: 0.4348 - acc: 0.8400 - val_loss: 1.3852 - val_acc: 0.5991\n",
      "Epoch 47/50\n",
      "225/225 [==============================] - 1193s 5s/step - loss: 0.4301 - acc: 0.8384 - val_loss: 1.2582 - val_acc: 0.6291\n",
      "Epoch 48/50\n",
      "225/225 [==============================] - 1412s 6s/step - loss: 0.4081 - acc: 0.8484 - val_loss: 1.3851 - val_acc: 0.6147\n",
      "Epoch 49/50\n",
      "225/225 [==============================] - 1237s 5s/step - loss: 0.4177 - acc: 0.8444 - val_loss: 1.3482 - val_acc: 0.6272\n",
      "Epoch 50/50\n",
      "225/225 [==============================] - 1232s 5s/step - loss: 0.3999 - acc: 0.8513 - val_loss: 1.4511 - val_acc: 0.6116\n"
     ]
    }
   ],
   "source": [
    "#Creating 2nd model and training(fitting)\n",
    "\n",
    "model.compile(optimizer='adam', loss='categorical_crossentropy', metrics=['accuracy'])\n",
    " \n",
    "batch_size = 128\n",
    "epochs = 50\n",
    "\n",
    "# Fit the model on the batches generated by datagen.flow().\n",
    "history = model.fit_generator(\n",
    "    datagen.flow(X_train, y_train, batch_size=batch_size),\n",
    "    steps_per_epoch=int(np.ceil(X_train.shape[0] / float(batch_size))),\n",
    "    epochs = epochs, \n",
    "    validation_data=(X_test, y_test))"
   ]
  },
  {
   "cell_type": "markdown",
   "metadata": {},
   "source": [
    "# V. Evaluate the model"
   ]
  },
  {
   "cell_type": "code",
   "execution_count": 53,
   "metadata": {
    "ExecuteTime": {
     "end_time": "2019-03-07T07:36:05.823493Z",
     "start_time": "2019-03-07T07:36:04.713869Z"
    }
   },
   "outputs": [
    {
     "data": {
      "text/plain": [
       "Text(0.5, 1.0, 'Accuracy Curves')"
      ]
     },
     "execution_count": 53,
     "metadata": {},
     "output_type": "execute_result"
    },
    {
     "data": {
      "image/png": "[encoded data removed]",
      "text/plain": [
       "<Figure size 576x432 with 1 Axes>"
      ]
     },
     "metadata": {},
     "output_type": "display_data"
    },
    {
     "data": {
      "image/png": "[encoded data removed]",
      "text/plain": [
       "<Figure size 576x432 with 1 Axes>"
      ]
     },
     "metadata": {},
     "output_type": "display_data"
    }
   ],
   "source": [
    "#Plotting accuracy and loss curves for 2nd model\n",
    "\n",
    "# Loss Curves\n",
    "plt.figure(figsize=[8,6])\n",
    "plt.plot(history.history['loss'],'r',linewidth=2.0)\n",
    "plt.plot(history.history['val_loss'],'b',linewidth=2.0)\n",
    "plt.legend(['Training loss', 'Validation Loss'],fontsize=18)\n",
    "plt.xlabel('Epochs ',fontsize=16)\n",
    "plt.ylabel('Loss',fontsize=16)\n",
    "plt.title('Loss Curves',fontsize=16)\n",
    " \n",
    "# Accuracy Curves\n",
    "plt.figure(figsize=[8,6])\n",
    "plt.plot(history.history['acc'],'r',linewidth=2.0)\n",
    "plt.plot(history.history['val_acc'],'b',linewidth=2.0)\n",
    "plt.legend(['Training Accuracy', 'Validation Accuracy'],fontsize=18)\n",
    "plt.xlabel('Epochs ',fontsize=16)\n",
    "plt.ylabel('Accuracy',fontsize=16)\n",
    "plt.title('Accuracy Curves',fontsize=16)"
   ]
  },
  {
   "cell_type": "markdown",
   "metadata": {},
   "source": [
    "# VI. Save the model"
   ]
  },
  {
   "cell_type": "code",
   "execution_count": 54,
   "metadata": {
    "ExecuteTime": {
     "end_time": "2019-03-07T07:36:40.933059Z",
     "start_time": "2019-03-07T07:36:38.628807Z"
    }
   },
   "outputs": [
    {
     "data": {
      "text/plain": [
       "9521"
      ]
     },
     "execution_count": 54,
     "metadata": {},
     "output_type": "execute_result"
    }
   ],
   "source": [
    "#save the model weights\n",
    "json_string = model.to_json()\n",
    "model.save_weights(local_path + 'savedmodels/model_simple_2.h5')\n",
    "open(local_path + 'savedmodels/model_simple_2.json', 'w').write(json_string)\n",
    "#model.save_weights(local_path + 'savedmodels/Emotion_Face_Detection_Model.h5')"
   ]
  },
  {
   "cell_type": "code",
   "execution_count": 55,
   "metadata": {
    "ExecuteTime": {
     "end_time": "2019-03-07T07:36:45.396761Z",
     "start_time": "2019-03-07T07:36:42.688716Z"
    }
   },
   "outputs": [
    {
     "name": "stdout",
     "output_type": "stream",
     "text": [
      "Loaded model from disk\n"
     ]
    }
   ],
   "source": [
    "with open(local_path + 'savedmodels/model_simple_2.json','r') as f:\n",
    "    json = f.read()\n",
    "model = model_from_json(json)\n",
    "\n",
    "model.load_weights(local_path + 'savedmodels/model_simple_2.h5')\n",
    "print(\"Loaded model from disk\")"
   ]
  },
  {
   "cell_type": "markdown",
   "metadata": {},
   "source": [
    "# VII. Sources"
   ]
  },
  {
   "cell_type": "markdown",
   "metadata": {},
   "source": [
    "- Visualization : https://github.com/JostineHo/mememoji/blob/master/data_visualization.ipynb\n",
    "- State of the art Architecture : https://github.com/amineHorseman/facial-expression-recognition-using-cnn\n",
    "- Eyes Tracking : https://www.pyimagesearch.com/2017/04/24/eye-blink-detection-opencv-python-dlib/\n",
    "- Face Alignment : https://www.pyimagesearch.com/2017/05/22/face-alignment-with-opencv-and-python/\n",
    "- C.Pramerdorfer,  and  M.Kampel.Facial  Expression  Recognition  using  Con-volutional  Neural  Networks:  State  of  the  Art.  Computer  Vision  Lab,  TU  Wien. https://arxiv.org/pdf/1612.02903.pdf\n",
    "- A Brief Review of Facial Emotion Recognition Based\n",
    "on Visual Information : https://www.mdpi.com/1424-8220/18/2/401/pdf\n",
    "- Going deeper in facial expression recognition using deep neural networks : https://ieeexplore.ieee.org/document/7477450"
   ]
  }
 ],
 "metadata": {
  "kernelspec": {
   "display_name": "Python 3",
   "language": "python",
   "name": "python3"
  },
  "language_info": {
   "codemirror_mode": {
    "name": "ipython",
    "version": 3
   },
   "file_extension": ".py",
   "mimetype": "text/x-python",
   "name": "python",
   "nbconvert_exporter": "python",
   "pygments_lexer": "ipython3",
   "version": "3.6.5"
  },
  "latex_envs": {
   "LaTeX_envs_menu_present": true,
   "autoclose": false,
   "autocomplete": true,
   "bibliofile": "biblio.bib",
   "cite_by": "apalike",
   "current_citInitial": 1,
   "eqLabelWithNumbers": true,
   "eqNumInitial": 1,
   "hotkeys": {
    "equation": "Ctrl-E",
    "itemize": "Ctrl-I"
   },
   "labels_anchors": false,
   "latex_user_defs": false,
   "report_style_numbering": false,
   "user_envs_cfg": false
  },
  "toc": {
   "base_numbering": 1,
   "nav_menu": {},
   "number_sections": true,
   "sideBar": true,
   "skip_h1_title": false,
   "title_cell": "Table of Contents",
   "title_sidebar": "Contents",
   "toc_cell": false,
   "toc_position": {},
   "toc_section_display": true,
   "toc_window_display": false
  }
 },
 "nbformat": 4,
 "nbformat_minor": 2
}
